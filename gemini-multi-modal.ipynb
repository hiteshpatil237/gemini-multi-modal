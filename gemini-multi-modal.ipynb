{
 "cells": [
  {
   "cell_type": "code",
   "execution_count": 1,
   "id": "1959aba2",
   "metadata": {},
   "outputs": [],
   "source": [
    "import os\n",
    "\n",
    "with open(\".env\") as f:\n",
    "    for line in f:\n",
    "        # Ignore comments and empty lines\n",
    "        if line.strip() and not line.startswith(\"#\"):\n",
    "            key, value = line.strip().split(\"=\", 1)\n",
    "            os.environ[key] = value"
   ]
  },
  {
   "cell_type": "code",
   "execution_count": 2,
   "id": "131a5dd6",
   "metadata": {},
   "outputs": [
    {
     "name": "stderr",
     "output_type": "stream",
     "text": [
      "d:\\gemini-multi-modal\\venv\\lib\\site-packages\\tqdm\\auto.py:21: TqdmWarning: IProgress not found. Please update jupyter and ipywidgets. See https://ipywidgets.readthedocs.io/en/stable/user_install.html\n",
      "  from .autonotebook import tqdm as notebook_tqdm\n",
      "[nltk_data] Downloading package stopwords to d:\\gemini-multi-\n",
      "[nltk_data]     modal\\venv\\lib\\site-\n",
      "[nltk_data]     packages\\llama_index\\core\\_static/nltk_cache...\n",
      "[nltk_data]   Unzipping corpora\\stopwords.zip.\n",
      "[nltk_data] Downloading package punkt to d:\\gemini-multi-\n",
      "[nltk_data]     modal\\venv\\lib\\site-\n",
      "[nltk_data]     packages\\llama_index\\core\\_static/nltk_cache...\n",
      "[nltk_data]   Unzipping tokenizers\\punkt.zip.\n"
     ]
    }
   ],
   "source": [
    "from llama_index.multi_modal_llms.gemini import GeminiMultiModal\n",
    "\n",
    "from llama_index.core.multi_modal_llms.generic_utils import load_image_urls\n",
    "\n",
    "image_urls = [\n",
    "    \"https://storage.googleapis.com/generativeai-downloads/data/scene.jpg\",\n",
    "    # Add yours here!\n",
    "]\n",
    "\n",
    "image_documents = load_image_urls(image_urls)\n",
    "\n",
    "gemini_pro = GeminiMultiModal(model_name=\"models/gemini-pro-vision\")"
   ]
  },
  {
   "cell_type": "code",
   "execution_count": null,
   "id": "3be24427",
   "metadata": {},
   "outputs": [],
   "source": []
  }
 ],
 "metadata": {
  "kernelspec": {
   "display_name": "venv",
   "language": "python",
   "name": "python3"
  },
  "language_info": {
   "codemirror_mode": {
    "name": "ipython",
    "version": 3
   },
   "file_extension": ".py",
   "mimetype": "text/x-python",
   "name": "python",
   "nbconvert_exporter": "python",
   "pygments_lexer": "ipython3",
   "version": "3.10.2"
  }
 },
 "nbformat": 4,
 "nbformat_minor": 5
}
